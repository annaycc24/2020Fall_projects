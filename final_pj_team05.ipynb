{
 "cells": [
  {
   "cell_type": "code",
   "execution_count": 77,
   "metadata": {},
   "outputs": [],
   "source": [
    "import pandas as pd\n",
    "from datetime import date\n",
    "import matplotlib.pyplot as plt"
   ]
  },
  {
   "cell_type": "code",
   "execution_count": 38,
   "metadata": {},
   "outputs": [],
   "source": [
    "# data source: \n",
    "# TODO: function to read csv\n",
    "# put csv in \"__init__ main\" to execute\n",
    "def load_flu_file(file):\n",
    "    flu_df = pd.read_csv(file, header = 2)\n",
    "    return flu_df"
   ]
  },
  {
   "cell_type": "code",
   "execution_count": 39,
   "metadata": {},
   "outputs": [],
   "source": [
    "# data source: https://trends.google.com/trends/explore?date=2019-01-01%202020-10-27&geo=US&q=mask\n",
    "# TODO: function to analyze mask google trend\n",
    "# read and clean\n",
    "def load_mask_file(file):\n",
    "    new_header = ['Date', 'mask_interested_in_percentage']\n",
    "    mask_df = pd.read_csv(file, header = 1, names = new_header)\n",
    "    return mask_df"
   ]
  },
  {
   "cell_type": "code",
   "execution_count": 40,
   "metadata": {},
   "outputs": [
    {
     "data": {
      "text/plain": "         dateRep  day  month  year  cases  deaths countriesAndTerritories  \\\n0     2020-11-23   23     11  2020    252       8             Afghanistan   \n1     2020-11-22   22     11  2020    154      12             Afghanistan   \n2     2020-11-21   21     11  2020    232      25             Afghanistan   \n3     2020-11-20   20     11  2020    282       5             Afghanistan   \n4     2020-11-19   19     11  2020      0       0             Afghanistan   \n...          ...  ...    ...   ...    ...     ...                     ...   \n57422 2020-03-25   25      3  2020      0       0                Zimbabwe   \n57423 2020-03-24   24      3  2020      0       1                Zimbabwe   \n57424 2020-03-23   23      3  2020      0       0                Zimbabwe   \n57425 2020-03-22   22      3  2020      1       0                Zimbabwe   \n57426 2020-03-21   21      3  2020      1       0                Zimbabwe   \n\n      geoId countryterritoryCode  popData2019 continentExp  \\\n0        AF                  AFG   38041757.0         Asia   \n1        AF                  AFG   38041757.0         Asia   \n2        AF                  AFG   38041757.0         Asia   \n3        AF                  AFG   38041757.0         Asia   \n4        AF                  AFG   38041757.0         Asia   \n...     ...                  ...          ...          ...   \n57422    ZW                  ZWE   14645473.0       Africa   \n57423    ZW                  ZWE   14645473.0       Africa   \n57424    ZW                  ZWE   14645473.0       Africa   \n57425    ZW                  ZWE   14645473.0       Africa   \n57426    ZW                  ZWE   14645473.0       Africa   \n\n       Cumulative_number_for_14_days_of_COVID-19_cases_per_100000  \n0                                               6.655844           \n1                                               6.203709           \n2                                               6.130106           \n3                                               5.672714           \n4                                               5.036571           \n...                                                  ...           \n57422                                                NaN           \n57423                                                NaN           \n57424                                                NaN           \n57425                                                NaN           \n57426                                                NaN           \n\n[57427 rows x 12 columns]",
      "text/html": "<div>\n<style scoped>\n    .dataframe tbody tr th:only-of-type {\n        vertical-align: middle;\n    }\n\n    .dataframe tbody tr th {\n        vertical-align: top;\n    }\n\n    .dataframe thead th {\n        text-align: right;\n    }\n</style>\n<table border=\"1\" class=\"dataframe\">\n  <thead>\n    <tr style=\"text-align: right;\">\n      <th></th>\n      <th>dateRep</th>\n      <th>day</th>\n      <th>month</th>\n      <th>year</th>\n      <th>cases</th>\n      <th>deaths</th>\n      <th>countriesAndTerritories</th>\n      <th>geoId</th>\n      <th>countryterritoryCode</th>\n      <th>popData2019</th>\n      <th>continentExp</th>\n      <th>Cumulative_number_for_14_days_of_COVID-19_cases_per_100000</th>\n    </tr>\n  </thead>\n  <tbody>\n    <tr>\n      <th>0</th>\n      <td>2020-11-23</td>\n      <td>23</td>\n      <td>11</td>\n      <td>2020</td>\n      <td>252</td>\n      <td>8</td>\n      <td>Afghanistan</td>\n      <td>AF</td>\n      <td>AFG</td>\n      <td>38041757.0</td>\n      <td>Asia</td>\n      <td>6.655844</td>\n    </tr>\n    <tr>\n      <th>1</th>\n      <td>2020-11-22</td>\n      <td>22</td>\n      <td>11</td>\n      <td>2020</td>\n      <td>154</td>\n      <td>12</td>\n      <td>Afghanistan</td>\n      <td>AF</td>\n      <td>AFG</td>\n      <td>38041757.0</td>\n      <td>Asia</td>\n      <td>6.203709</td>\n    </tr>\n    <tr>\n      <th>2</th>\n      <td>2020-11-21</td>\n      <td>21</td>\n      <td>11</td>\n      <td>2020</td>\n      <td>232</td>\n      <td>25</td>\n      <td>Afghanistan</td>\n      <td>AF</td>\n      <td>AFG</td>\n      <td>38041757.0</td>\n      <td>Asia</td>\n      <td>6.130106</td>\n    </tr>\n    <tr>\n      <th>3</th>\n      <td>2020-11-20</td>\n      <td>20</td>\n      <td>11</td>\n      <td>2020</td>\n      <td>282</td>\n      <td>5</td>\n      <td>Afghanistan</td>\n      <td>AF</td>\n      <td>AFG</td>\n      <td>38041757.0</td>\n      <td>Asia</td>\n      <td>5.672714</td>\n    </tr>\n    <tr>\n      <th>4</th>\n      <td>2020-11-19</td>\n      <td>19</td>\n      <td>11</td>\n      <td>2020</td>\n      <td>0</td>\n      <td>0</td>\n      <td>Afghanistan</td>\n      <td>AF</td>\n      <td>AFG</td>\n      <td>38041757.0</td>\n      <td>Asia</td>\n      <td>5.036571</td>\n    </tr>\n    <tr>\n      <th>...</th>\n      <td>...</td>\n      <td>...</td>\n      <td>...</td>\n      <td>...</td>\n      <td>...</td>\n      <td>...</td>\n      <td>...</td>\n      <td>...</td>\n      <td>...</td>\n      <td>...</td>\n      <td>...</td>\n      <td>...</td>\n    </tr>\n    <tr>\n      <th>57422</th>\n      <td>2020-03-25</td>\n      <td>25</td>\n      <td>3</td>\n      <td>2020</td>\n      <td>0</td>\n      <td>0</td>\n      <td>Zimbabwe</td>\n      <td>ZW</td>\n      <td>ZWE</td>\n      <td>14645473.0</td>\n      <td>Africa</td>\n      <td>NaN</td>\n    </tr>\n    <tr>\n      <th>57423</th>\n      <td>2020-03-24</td>\n      <td>24</td>\n      <td>3</td>\n      <td>2020</td>\n      <td>0</td>\n      <td>1</td>\n      <td>Zimbabwe</td>\n      <td>ZW</td>\n      <td>ZWE</td>\n      <td>14645473.0</td>\n      <td>Africa</td>\n      <td>NaN</td>\n    </tr>\n    <tr>\n      <th>57424</th>\n      <td>2020-03-23</td>\n      <td>23</td>\n      <td>3</td>\n      <td>2020</td>\n      <td>0</td>\n      <td>0</td>\n      <td>Zimbabwe</td>\n      <td>ZW</td>\n      <td>ZWE</td>\n      <td>14645473.0</td>\n      <td>Africa</td>\n      <td>NaN</td>\n    </tr>\n    <tr>\n      <th>57425</th>\n      <td>2020-03-22</td>\n      <td>22</td>\n      <td>3</td>\n      <td>2020</td>\n      <td>1</td>\n      <td>0</td>\n      <td>Zimbabwe</td>\n      <td>ZW</td>\n      <td>ZWE</td>\n      <td>14645473.0</td>\n      <td>Africa</td>\n      <td>NaN</td>\n    </tr>\n    <tr>\n      <th>57426</th>\n      <td>2020-03-21</td>\n      <td>21</td>\n      <td>3</td>\n      <td>2020</td>\n      <td>1</td>\n      <td>0</td>\n      <td>Zimbabwe</td>\n      <td>ZW</td>\n      <td>ZWE</td>\n      <td>14645473.0</td>\n      <td>Africa</td>\n      <td>NaN</td>\n    </tr>\n  </tbody>\n</table>\n<p>57427 rows × 12 columns</p>\n</div>"
     },
     "execution_count": 40,
     "metadata": {},
     "output_type": "execute_result"
    }
   ],
   "source": [
    "# data source: https://www.ecdc.europa.eu/en/publications-data/download-todays-data-geographic-distribution-covid-19-cases-worldwide\n",
    "# TODO: function to analyze covid case\n",
    "# read and clean\n",
    "\n",
    "covid = pd.read_excel('COVID-19-worldwide.xlsx')\n",
    "covid\n",
    "# covid.groupby([\"year\", \"month\"]).sum()[\"cases\"]\n",
    "\n",
    "# 變成dataframe然後取出個國家的確認數&日期\n",
    "# 看要不要group by年、月"
   ]
  },
  {
   "cell_type": "code",
   "execution_count": 41,
   "metadata": {},
   "outputs": [],
   "source": [
    "def get_covid_cases(country_name: str):\n",
    "    if country_name == \"US\":\n",
    "        country_name = \"United_States_of_America\"\n",
    "    elif country_name == \"UK\":\n",
    "        country_name = \"United_Kingdom\"\n",
    "    country = covid.loc[covid[\"countriesAndTerritories\"] == country_name]\n",
    "    # country_new = country.groupby([\"year\", \"month\"]).sum()[\"cases\"]\n",
    "    # print(df)\n",
    "    country[\"yearmonth\"] = country[\"dateRep\"].map(lambda dt: dt.replace(day=1))\n",
    "    country_new = country.groupby([\"yearmonth\"]).sum()[\"cases\"]\n",
    "    return country_new"
   ]
  },
  {
   "cell_type": "code",
   "execution_count": 42,
   "metadata": {},
   "outputs": [],
   "source": [
    "# columns we want: year, month, ALL_INF, mask google trend\n",
    "# TODO: function to make a separte column of datetime\n",
    "# and then group by 1. year and 2. month (2 conditions)   ('ALL_INF')"
   ]
  },
  {
   "cell_type": "code",
   "execution_count": 43,
   "metadata": {},
   "outputs": [],
   "source": [
    "def get_total_flu_case_by_month(file):\n",
    "    file[\"yearmonth\"] = pd.to_datetime(file[\"EDATE\"]).map(lambda dt: dt.replace(day=1))\n",
    "    file_new = file.groupby([\"yearmonth\"]).sum()[\"ALL_INF\"]\n",
    "    return file_new"
   ]
  },
  {
   "cell_type": "code",
   "execution_count": 44,
   "metadata": {},
   "outputs": [],
   "source": [
    "def get_mask_search_trend_by_month(file):\n",
    "    file[\"yearmonth\"] = pd.to_datetime(file[\"Date\"]).map(lambda dt: dt.replace(day=1))\n",
    "    file_new = file.groupby([\"yearmonth\"]).sum()[\"mask_interested_in_percentage\"]\n",
    "    return file_new"
   ]
  },
  {
   "cell_type": "code",
   "execution_count": 45,
   "metadata": {},
   "outputs": [],
   "source": [
    "# aggregrate everything by country\n",
    "# columns: year, month, mask, flu, covid\n",
    "def aggregrate_data(flu_data, mask_data, covid_cases, country_name: str):\n",
    "    merge = pd.concat([flu_data, mask_data, covid_cases], axis = 1).reset_index()\n",
    "    merge[\"Y\"] = merge[\"yearmonth\"].dt.year\n",
    "    merge[\"M\"] = merge[\"yearmonth\"].dt.month\n",
    "    merge[\"country\"] = country_name\n",
    "    merge = merge[[\"Y\", \"M\", \"country\", \"ALL_INF\", \"mask_interested_in_percentage\", \"cases\"]]\n",
    "    merge = merge.rename(columns = {\"ALL_INF\": \"flu cases\"})\n",
    "    return merge"
   ]
  },
  {
   "cell_type": "code",
   "execution_count": 46,
   "metadata": {},
   "outputs": [],
   "source": [
    "def extract_info(country: str):\n",
    "    flu = \"FluNetInteractiveReport_\" + country + \".csv\"\n",
    "    mask = \"multiTimeline_\" + country + \".csv\"\n",
    "    \n",
    "    fludata = load_flu_file(flu)\n",
    "    mask_trend = load_mask_file(mask)\n",
    "    fludata_new = get_total_flu_case_by_month(fludata)\n",
    "    mask_trend_new = get_mask_search_trend_by_month(mask_trend)\n",
    "    covid_case = get_covid_cases(country)\n",
    "    result_data = aggregrate_data(fludata_new, mask_trend_new, covid_case, country)\n",
    "    return result_data\n",
    "    "
   ]
  },
  {
   "cell_type": "code",
   "execution_count": 80,
   "metadata": {},
   "outputs": [],
   "source": [
    "# Data visualization\n",
    "# import matplotlib as plt\n",
    "def plot_graph(country: str):\n",
    "    flucase=country['flu cases']\n",
    "    DATE = []\n",
    "    for y, m in zip(country.Y, country.M):\n",
    "        DATE.append(date(y, m,1))\n",
    "    country['DATE'] = DATE\n",
    "    time=country['DATE']\n",
    "    plt.plot(time,flucase)\n",
    "    plt.show()\n"
   ]
  },
  {
   "cell_type": "code",
   "execution_count": 49,
   "metadata": {},
   "outputs": [
    {
     "name": "stderr",
     "output_type": "stream",
     "text": [
      "<ipython-input-41-2e633aaa89a6>:9: SettingWithCopyWarning: \n",
      "A value is trying to be set on a copy of a slice from a DataFrame.\n",
      "Try using .loc[row_indexer,col_indexer] = value instead\n",
      "\n",
      "See the caveats in the documentation: https://pandas.pydata.org/pandas-docs/stable/user_guide/indexing.html#returning-a-view-versus-a-copy\n",
      "  country[\"yearmonth\"] = country[\"dateRep\"].map(lambda dt: dt.replace(day=1))\n"
     ]
    },
    {
     "data": {
      "text/plain": "       Y   M country  flu cases  mask_interested_in_percentage      cases\n0   2019   1      US    33782.0                           38.0        NaN\n1   2019   2      US    64584.0                           36.0        NaN\n2   2019   3      US    74427.0                           41.0        NaN\n3   2019   4      US    16556.0                           32.0        NaN\n4   2019   5      US     3617.0                           32.0        NaN\n5   2019   6      US     2013.0                           40.0        NaN\n6   2019   7      US     1073.0                           32.0        NaN\n7   2019   8      US     1040.0                           31.0        NaN\n8   2019   9      US     2588.0                           43.0        NaN\n9   2019  10      US     2401.0                           47.0        NaN\n10  2019  11      US    10850.0                           32.0        NaN\n11  2019  12      US    55593.0                           44.0        0.0\n12  2020   1      US    75582.0                           45.0        6.0\n13  2020   2      US    96058.0                           67.0       60.0\n14  2020   3      US    55735.0                          207.0   164554.0\n15  2020   4      US      700.0                          283.0   875289.0\n16  2020   5      US      194.0                          214.0   730475.0\n17  2020   6      US       84.0                          171.0   820168.0\n18  2020   7      US       61.0                          214.0  1904462.0\n19  2020   8      US       62.0                          169.0  1502149.0\n20  2020   9      US       85.0                          108.0  1193898.0\n21  2020  10      US       39.0                          109.0  1856366.0\n22  2020  11      US        NaN                            NaN  3199482.0",
      "text/html": "<div>\n<style scoped>\n    .dataframe tbody tr th:only-of-type {\n        vertical-align: middle;\n    }\n\n    .dataframe tbody tr th {\n        vertical-align: top;\n    }\n\n    .dataframe thead th {\n        text-align: right;\n    }\n</style>\n<table border=\"1\" class=\"dataframe\">\n  <thead>\n    <tr style=\"text-align: right;\">\n      <th></th>\n      <th>Y</th>\n      <th>M</th>\n      <th>country</th>\n      <th>flu cases</th>\n      <th>mask_interested_in_percentage</th>\n      <th>cases</th>\n    </tr>\n  </thead>\n  <tbody>\n    <tr>\n      <th>0</th>\n      <td>2019</td>\n      <td>1</td>\n      <td>US</td>\n      <td>33782.0</td>\n      <td>38.0</td>\n      <td>NaN</td>\n    </tr>\n    <tr>\n      <th>1</th>\n      <td>2019</td>\n      <td>2</td>\n      <td>US</td>\n      <td>64584.0</td>\n      <td>36.0</td>\n      <td>NaN</td>\n    </tr>\n    <tr>\n      <th>2</th>\n      <td>2019</td>\n      <td>3</td>\n      <td>US</td>\n      <td>74427.0</td>\n      <td>41.0</td>\n      <td>NaN</td>\n    </tr>\n    <tr>\n      <th>3</th>\n      <td>2019</td>\n      <td>4</td>\n      <td>US</td>\n      <td>16556.0</td>\n      <td>32.0</td>\n      <td>NaN</td>\n    </tr>\n    <tr>\n      <th>4</th>\n      <td>2019</td>\n      <td>5</td>\n      <td>US</td>\n      <td>3617.0</td>\n      <td>32.0</td>\n      <td>NaN</td>\n    </tr>\n    <tr>\n      <th>5</th>\n      <td>2019</td>\n      <td>6</td>\n      <td>US</td>\n      <td>2013.0</td>\n      <td>40.0</td>\n      <td>NaN</td>\n    </tr>\n    <tr>\n      <th>6</th>\n      <td>2019</td>\n      <td>7</td>\n      <td>US</td>\n      <td>1073.0</td>\n      <td>32.0</td>\n      <td>NaN</td>\n    </tr>\n    <tr>\n      <th>7</th>\n      <td>2019</td>\n      <td>8</td>\n      <td>US</td>\n      <td>1040.0</td>\n      <td>31.0</td>\n      <td>NaN</td>\n    </tr>\n    <tr>\n      <th>8</th>\n      <td>2019</td>\n      <td>9</td>\n      <td>US</td>\n      <td>2588.0</td>\n      <td>43.0</td>\n      <td>NaN</td>\n    </tr>\n    <tr>\n      <th>9</th>\n      <td>2019</td>\n      <td>10</td>\n      <td>US</td>\n      <td>2401.0</td>\n      <td>47.0</td>\n      <td>NaN</td>\n    </tr>\n    <tr>\n      <th>10</th>\n      <td>2019</td>\n      <td>11</td>\n      <td>US</td>\n      <td>10850.0</td>\n      <td>32.0</td>\n      <td>NaN</td>\n    </tr>\n    <tr>\n      <th>11</th>\n      <td>2019</td>\n      <td>12</td>\n      <td>US</td>\n      <td>55593.0</td>\n      <td>44.0</td>\n      <td>0.0</td>\n    </tr>\n    <tr>\n      <th>12</th>\n      <td>2020</td>\n      <td>1</td>\n      <td>US</td>\n      <td>75582.0</td>\n      <td>45.0</td>\n      <td>6.0</td>\n    </tr>\n    <tr>\n      <th>13</th>\n      <td>2020</td>\n      <td>2</td>\n      <td>US</td>\n      <td>96058.0</td>\n      <td>67.0</td>\n      <td>60.0</td>\n    </tr>\n    <tr>\n      <th>14</th>\n      <td>2020</td>\n      <td>3</td>\n      <td>US</td>\n      <td>55735.0</td>\n      <td>207.0</td>\n      <td>164554.0</td>\n    </tr>\n    <tr>\n      <th>15</th>\n      <td>2020</td>\n      <td>4</td>\n      <td>US</td>\n      <td>700.0</td>\n      <td>283.0</td>\n      <td>875289.0</td>\n    </tr>\n    <tr>\n      <th>16</th>\n      <td>2020</td>\n      <td>5</td>\n      <td>US</td>\n      <td>194.0</td>\n      <td>214.0</td>\n      <td>730475.0</td>\n    </tr>\n    <tr>\n      <th>17</th>\n      <td>2020</td>\n      <td>6</td>\n      <td>US</td>\n      <td>84.0</td>\n      <td>171.0</td>\n      <td>820168.0</td>\n    </tr>\n    <tr>\n      <th>18</th>\n      <td>2020</td>\n      <td>7</td>\n      <td>US</td>\n      <td>61.0</td>\n      <td>214.0</td>\n      <td>1904462.0</td>\n    </tr>\n    <tr>\n      <th>19</th>\n      <td>2020</td>\n      <td>8</td>\n      <td>US</td>\n      <td>62.0</td>\n      <td>169.0</td>\n      <td>1502149.0</td>\n    </tr>\n    <tr>\n      <th>20</th>\n      <td>2020</td>\n      <td>9</td>\n      <td>US</td>\n      <td>85.0</td>\n      <td>108.0</td>\n      <td>1193898.0</td>\n    </tr>\n    <tr>\n      <th>21</th>\n      <td>2020</td>\n      <td>10</td>\n      <td>US</td>\n      <td>39.0</td>\n      <td>109.0</td>\n      <td>1856366.0</td>\n    </tr>\n    <tr>\n      <th>22</th>\n      <td>2020</td>\n      <td>11</td>\n      <td>US</td>\n      <td>NaN</td>\n      <td>NaN</td>\n      <td>3199482.0</td>\n    </tr>\n  </tbody>\n</table>\n</div>"
     },
     "execution_count": 49,
     "metadata": {},
     "output_type": "execute_result"
    }
   ],
   "source": [
    "# if __name__ == \"__main__\":\n",
    "# files\n",
    "\"\"\"\n",
    "flu_china = 'FluNetInteractiveReport_China.csv'\n",
    "flu_usa = 'FluNetInteractiveReport_US.csv'\n",
    "flu_uk = 'FluNetInteractiveReport_UK.csv'\n",
    "mask_china = 'multiTimeline_China.csv'\n",
    "mask_usa = 'multiTimeline_US.csv'\n",
    "mask_uk = 'multiTimeline_UK.csv'\n",
    "\"\"\"\n",
    "\n",
    "china = extract_info(\"China\")\n",
    "us = extract_info(\"US\")\n",
    "uk = extract_info(\"UK\")\n",
    "# load data\n",
    "# fludata_china = load_flu_file(flu_china)\n",
    "# mask_trend_china = load_mask_file(mask_china)\n",
    "# clean data\n",
    "# fludata_china_new = get_total_flu_case_by_month(fludata_china)\n",
    "# mask_trend_china_new = get_mask_search_trend_by_month(mask_trend_china)\n",
    "# covid_case = get_covid_cases(\"China\")\n",
    "# merga all data together\n",
    "# result_data = aggregrate_data(fludata_china_new, mask_trend_china_new, covid_case, \"China\")\n",
    "us"
   ]
  },
  {
   "cell_type": "code",
   "execution_count": 81,
   "metadata": {
    "pycharm": {
     "name": "#%%\n"
    }
   },
   "outputs": [
    {
     "data": {
      "text/plain": "<Figure size 432x288 with 1 Axes>",
      "image/png": "[encoded data removed]"
     },
     "metadata": {
      "needs_background": "light"
     },
     "output_type": "display_data"
    }
   ],
   "source": [
    "test=plot_graph(us)\n"
   ]
  },
  {
   "cell_type": "code",
   "execution_count": null,
   "metadata": {},
   "outputs": [],
   "source": []
  }
 ],
 "metadata": {
  "kernelspec": {
   "display_name": "Python 3",
   "language": "python",
   "name": "python3"
  },
  "language_info": {
   "codemirror_mode": {
    "name": "ipython",
    "version": 3
   },
   "file_extension": ".py",
   "mimetype": "text/x-python",
   "name": "python",
   "nbconvert_exporter": "python",
   "pygments_lexer": "ipython3",
   "version": "3.8.3"
  }
 },
 "nbformat": 4,
 "nbformat_minor": 2
}