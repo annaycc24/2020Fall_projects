{
 "cells": [
  {
   "cell_type": "code",
   "execution_count": 13,
   "metadata": {},
   "outputs": [],
   "source": [
    "import pandas as pd\n",
    "from datetime import date\n",
    "import matplotlib.pyplot as plt"
   ]
  },
  {
   "cell_type": "code",
   "execution_count": 14,
   "metadata": {},
   "outputs": [],
   "source": [
    "# data source: \n",
    "# TODO: function to read csv\n",
    "# put csv in \"__init__ main\" to execute\n",
    "def load_flu_file(file):\n",
    "    flu_df = pd.read_csv(file, header = 2)\n",
    "    return flu_df"
   ]
  },
  {
   "cell_type": "code",
   "execution_count": 15,
   "metadata": {},
   "outputs": [],
   "source": [
    "# data source: https://trends.google.com/trends/explore?date=2019-01-01%202020-10-27&geo=US&q=mask\n",
    "# TODO: function to analyze mask google trend\n",
    "# read and clean\n",
    "def load_mask_file(file):\n",
    "    new_header = ['Date', 'mask_interested_in_percentage']\n",
    "    mask_df = pd.read_csv(file, header = 1, names = new_header)\n",
    "    return mask_df"
   ]
  },
  {
   "cell_type": "code",
   "execution_count": 16,
   "metadata": {},
   "outputs": [
    {
     "data": {
      "text/plain": "         dateRep  day  month  year  cases  deaths countriesAndTerritories  \\\n0     2020-11-23   23     11  2020    252       8             Afghanistan   \n1     2020-11-22   22     11  2020    154      12             Afghanistan   \n2     2020-11-21   21     11  2020    232      25             Afghanistan   \n3     2020-11-20   20     11  2020    282       5             Afghanistan   \n4     2020-11-19   19     11  2020      0       0             Afghanistan   \n...          ...  ...    ...   ...    ...     ...                     ...   \n57422 2020-03-25   25      3  2020      0       0                Zimbabwe   \n57423 2020-03-24   24      3  2020      0       1                Zimbabwe   \n57424 2020-03-23   23      3  2020      0       0                Zimbabwe   \n57425 2020-03-22   22      3  2020      1       0                Zimbabwe   \n57426 2020-03-21   21      3  2020      1       0                Zimbabwe   \n\n      geoId countryterritoryCode  popData2019 continentExp  \\\n0        AF                  AFG   38041757.0         Asia   \n1        AF                  AFG   38041757.0         Asia   \n2        AF                  AFG   38041757.0         Asia   \n3        AF                  AFG   38041757.0         Asia   \n4        AF                  AFG   38041757.0         Asia   \n...     ...                  ...          ...          ...   \n57422    ZW                  ZWE   14645473.0       Africa   \n57423    ZW                  ZWE   14645473.0       Africa   \n57424    ZW                  ZWE   14645473.0       Africa   \n57425    ZW                  ZWE   14645473.0       Africa   \n57426    ZW                  ZWE   14645473.0       Africa   \n\n       Cumulative_number_for_14_days_of_COVID-19_cases_per_100000  \n0                                               6.655844           \n1                                               6.203709           \n2                                               6.130106           \n3                                               5.672714           \n4                                               5.036571           \n...                                                  ...           \n57422                                                NaN           \n57423                                                NaN           \n57424                                                NaN           \n57425                                                NaN           \n57426                                                NaN           \n\n[57427 rows x 12 columns]",
      "text/html": "<div>\n<style scoped>\n    .dataframe tbody tr th:only-of-type {\n        vertical-align: middle;\n    }\n\n    .dataframe tbody tr th {\n        vertical-align: top;\n    }\n\n    .dataframe thead th {\n        text-align: right;\n    }\n</style>\n<table border=\"1\" class=\"dataframe\">\n  <thead>\n    <tr style=\"text-align: right;\">\n      <th></th>\n      <th>dateRep</th>\n      <th>day</th>\n      <th>month</th>\n      <th>year</th>\n      <th>cases</th>\n      <th>deaths</th>\n      <th>countriesAndTerritories</th>\n      <th>geoId</th>\n      <th>countryterritoryCode</th>\n      <th>popData2019</th>\n      <th>continentExp</th>\n      <th>Cumulative_number_for_14_days_of_COVID-19_cases_per_100000</th>\n    </tr>\n  </thead>\n  <tbody>\n    <tr>\n      <th>0</th>\n      <td>2020-11-23</td>\n      <td>23</td>\n      <td>11</td>\n      <td>2020</td>\n      <td>252</td>\n      <td>8</td>\n      <td>Afghanistan</td>\n      <td>AF</td>\n      <td>AFG</td>\n      <td>38041757.0</td>\n      <td>Asia</td>\n      <td>6.655844</td>\n    </tr>\n    <tr>\n      <th>1</th>\n      <td>2020-11-22</td>\n      <td>22</td>\n      <td>11</td>\n      <td>2020</td>\n      <td>154</td>\n      <td>12</td>\n      <td>Afghanistan</td>\n      <td>AF</td>\n      <td>AFG</td>\n      <td>38041757.0</td>\n      <td>Asia</td>\n      <td>6.203709</td>\n    </tr>\n    <tr>\n      <th>2</th>\n      <td>2020-11-21</td>\n      <td>21</td>\n      <td>11</td>\n      <td>2020</td>\n      <td>232</td>\n      <td>25</td>\n      <td>Afghanistan</td>\n      <td>AF</td>\n      <td>AFG</td>\n      <td>38041757.0</td>\n      <td>Asia</td>\n      <td>6.130106</td>\n    </tr>\n    <tr>\n      <th>3</th>\n      <td>2020-11-20</td>\n      <td>20</td>\n      <td>11</td>\n      <td>2020</td>\n      <td>282</td>\n      <td>5</td>\n      <td>Afghanistan</td>\n      <td>AF</td>\n      <td>AFG</td>\n      <td>38041757.0</td>\n      <td>Asia</td>\n      <td>5.672714</td>\n    </tr>\n    <tr>\n      <th>4</th>\n      <td>2020-11-19</td>\n      <td>19</td>\n      <td>11</td>\n      <td>2020</td>\n      <td>0</td>\n      <td>0</td>\n      <td>Afghanistan</td>\n      <td>AF</td>\n      <td>AFG</td>\n      <td>38041757.0</td>\n      <td>Asia</td>\n      <td>5.036571</td>\n    </tr>\n    <tr>\n      <th>...</th>\n      <td>...</td>\n      <td>...</td>\n      <td>...</td>\n      <td>...</td>\n      <td>...</td>\n      <td>...</td>\n      <td>...</td>\n      <td>...</td>\n      <td>...</td>\n      <td>...</td>\n      <td>...</td>\n      <td>...</td>\n    </tr>\n    <tr>\n      <th>57422</th>\n      <td>2020-03-25</td>\n      <td>25</td>\n      <td>3</td>\n      <td>2020</td>\n      <td>0</td>\n      <td>0</td>\n      <td>Zimbabwe</td>\n      <td>ZW</td>\n      <td>ZWE</td>\n      <td>14645473.0</td>\n      <td>Africa</td>\n      <td>NaN</td>\n    </tr>\n    <tr>\n      <th>57423</th>\n      <td>2020-03-24</td>\n      <td>24</td>\n      <td>3</td>\n      <td>2020</td>\n      <td>0</td>\n      <td>1</td>\n      <td>Zimbabwe</td>\n      <td>ZW</td>\n      <td>ZWE</td>\n      <td>14645473.0</td>\n      <td>Africa</td>\n      <td>NaN</td>\n    </tr>\n    <tr>\n      <th>57424</th>\n      <td>2020-03-23</td>\n      <td>23</td>\n      <td>3</td>\n      <td>2020</td>\n      <td>0</td>\n      <td>0</td>\n      <td>Zimbabwe</td>\n      <td>ZW</td>\n      <td>ZWE</td>\n      <td>14645473.0</td>\n      <td>Africa</td>\n      <td>NaN</td>\n    </tr>\n    <tr>\n      <th>57425</th>\n      <td>2020-03-22</td>\n      <td>22</td>\n      <td>3</td>\n      <td>2020</td>\n      <td>1</td>\n      <td>0</td>\n      <td>Zimbabwe</td>\n      <td>ZW</td>\n      <td>ZWE</td>\n      <td>14645473.0</td>\n      <td>Africa</td>\n      <td>NaN</td>\n    </tr>\n    <tr>\n      <th>57426</th>\n      <td>2020-03-21</td>\n      <td>21</td>\n      <td>3</td>\n      <td>2020</td>\n      <td>1</td>\n      <td>0</td>\n      <td>Zimbabwe</td>\n      <td>ZW</td>\n      <td>ZWE</td>\n      <td>14645473.0</td>\n      <td>Africa</td>\n      <td>NaN</td>\n    </tr>\n  </tbody>\n</table>\n<p>57427 rows × 12 columns</p>\n</div>"
     },
     "execution_count": 16,
     "metadata": {},
     "output_type": "execute_result"
    }
   ],
   "source": [
    "# data source: https://www.ecdc.europa.eu/en/publications-data/download-todays-data-geographic-distribution-covid-19-cases-worldwide\n",
    "# TODO: function to analyze covid case\n",
    "# read and clean\n",
    "\n",
    "covid = pd.read_excel('COVID-19-worldwide.xlsx')\n",
    "covid\n",
    "# covid.groupby([\"year\", \"month\"]).sum()[\"cases\"]\n",
    "\n",
    "# 變成dataframe然後取出個國家的確認數&日期\n",
    "# 看要不要group by年、月"
   ]
  },
  {
   "cell_type": "code",
   "execution_count": 17,
   "metadata": {},
   "outputs": [],
   "source": [
    "def get_covid_cases(country_name: str):\n",
    "    if country_name == \"US\":\n",
    "        country_name = \"United_States_of_America\"\n",
    "    elif country_name == \"UK\":\n",
    "        country_name = \"United_Kingdom\"\n",
    "    country = covid.loc[covid[\"countriesAndTerritories\"] == country_name]\n",
    "    # country_new = country.groupby([\"year\", \"month\"]).sum()[\"cases\"]\n",
    "    # print(df)\n",
    "    country[\"yearmonth\"] = country[\"dateRep\"].map(lambda dt: dt.replace(day=1))\n",
    "    country_new = country.groupby([\"yearmonth\"]).sum()[\"cases\"]\n",
    "    return country_new"
   ]
  },
  {
   "cell_type": "code",
   "execution_count": 18,
   "metadata": {},
   "outputs": [],
   "source": [
    "# columns we want: year, month, ALL_INF, mask google trend\n",
    "# TODO: function to make a separte column of datetime\n",
    "# and then group by 1. year and 2. month (2 conditions)   ('ALL_INF')\n",
    "\n"
   ]
  },
  {
   "cell_type": "code",
   "execution_count": 19,
   "metadata": {},
   "outputs": [],
   "source": [
    "def get_total_flu_case_by_month(file):\n",
    "    file[\"yearmonth\"] = pd.to_datetime(file[\"EDATE\"]).map(lambda dt: dt.replace(day=1))\n",
    "    file_new = file.groupby([\"yearmonth\"]).sum()[\"ALL_INF\"]\n",
    "    return file_new"
   ]
  },
  {
   "cell_type": "code",
   "execution_count": 20,
   "metadata": {},
   "outputs": [],
   "source": [
    "def get_mask_search_trend_by_month(file):\n",
    "    file[\"yearmonth\"] = pd.to_datetime(file[\"Date\"]).map(lambda dt: dt.replace(day=1))\n",
    "    file_new = file.groupby([\"yearmonth\"]).sum()[\"mask_interested_in_percentage\"]\n",
    "    return file_new"
   ]
  },
  {
   "cell_type": "code",
   "execution_count": 21,
   "metadata": {},
   "outputs": [],
   "source": [
    "# aggregrate everything by country\n",
    "# columns: year, month, mask, flu, covid\n",
    "def aggregrate_data(flu_data, mask_data, covid_cases, country_name: str):\n",
    "    merge = pd.concat([flu_data, mask_data, covid_cases], axis = 1).reset_index()\n",
    "    merge[\"Y\"] = merge[\"yearmonth\"].dt.year\n",
    "    merge[\"M\"] = merge[\"yearmonth\"].dt.month\n",
    "    merge[\"country\"] = country_name\n",
    "    merge = merge[[\"Y\", \"M\", \"country\", \"ALL_INF\", \"mask_interested_in_percentage\", \"cases\"]]\n",
    "    merge = merge.rename(columns = {\"ALL_INF\": \"flu cases\"})\n",
    "    return merge"
   ]
  },
  {
   "cell_type": "code",
   "execution_count": 22,
   "metadata": {},
   "outputs": [],
   "source": [
    "def extract_info(country: str):\n",
    "    flu = \"FluNetInteractiveReport_\" + country + \".csv\"\n",
    "    mask = \"multiTimeline_\" + country + \".csv\"\n",
    "    \n",
    "    fludata = load_flu_file(flu)\n",
    "    mask_trend = load_mask_file(mask)\n",
    "    fludata_new = get_total_flu_case_by_month(fludata)\n",
    "    mask_trend_new = get_mask_search_trend_by_month(mask_trend)\n",
    "    covid_case = get_covid_cases(country)\n",
    "    result_data = aggregrate_data(fludata_new, mask_trend_new, covid_case, country)\n",
    "    return result_data\n",
    "    "
   ]
  },
  {
   "cell_type": "code",
   "execution_count": 23,
   "metadata": {},
   "outputs": [],
   "source": [
    "# Data visualization\n",
    "# import matplotlib as plt\n",
    "def plot_graph(country: str):\n",
    "    flucase=country['flu cases']\n",
    "    DATE = []\n",
    "    for y, m in zip(country.Y, country.M):\n",
    "        DATE.append(date(y, m,1))\n",
    "    country['DATE'] = DATE\n",
    "    time=country['DATE']\n",
    "    plt.plot(time,flucase)\n",
    "    plt.xlabel('month')\n",
    "    plt.ylabel('num. of cases')\n",
    "    plt.show()\n"
   ]
  },
  {
   "cell_type": "code",
   "execution_count": 24,
   "metadata": {},
   "outputs": [
    {
     "name": "stderr",
     "output_type": "stream",
     "text": [
      "<ipython-input-17-2e633aaa89a6>:9: SettingWithCopyWarning: \n",
      "A value is trying to be set on a copy of a slice from a DataFrame.\n",
      "Try using .loc[row_indexer,col_indexer] = value instead\n",
      "\n",
      "See the caveats in the documentation: https://pandas.pydata.org/pandas-docs/stable/user_guide/indexing.html#returning-a-view-versus-a-copy\n",
      "  country[\"yearmonth\"] = country[\"dateRep\"].map(lambda dt: dt.replace(day=1))\n"
     ]
    },
    {
     "ename": "FileNotFoundError",
     "evalue": "[Errno 2] No such file or directory: 'FluNetInteractiveReport_US.csv'",
     "output_type": "error",
     "traceback": [
      "\u001B[1;31m---------------------------------------------------------------------------\u001B[0m",
      "\u001B[1;31mFileNotFoundError\u001B[0m                         Traceback (most recent call last)",
      "\u001B[1;32m<ipython-input-24-c72677a775be>\u001B[0m in \u001B[0;36m<module>\u001B[1;34m\u001B[0m\n\u001B[0;32m     11\u001B[0m \u001B[1;33m\u001B[0m\u001B[0m\n\u001B[0;32m     12\u001B[0m \u001B[0mchina\u001B[0m \u001B[1;33m=\u001B[0m \u001B[0mextract_info\u001B[0m\u001B[1;33m(\u001B[0m\u001B[1;34m\"China\"\u001B[0m\u001B[1;33m)\u001B[0m\u001B[1;33m\u001B[0m\u001B[1;33m\u001B[0m\u001B[0m\n\u001B[1;32m---> 13\u001B[1;33m \u001B[0mus\u001B[0m \u001B[1;33m=\u001B[0m \u001B[0mextract_info\u001B[0m\u001B[1;33m(\u001B[0m\u001B[1;34m\"US\"\u001B[0m\u001B[1;33m)\u001B[0m\u001B[1;33m\u001B[0m\u001B[1;33m\u001B[0m\u001B[0m\n\u001B[0m\u001B[0;32m     14\u001B[0m \u001B[0muk\u001B[0m \u001B[1;33m=\u001B[0m \u001B[0mextract_info\u001B[0m\u001B[1;33m(\u001B[0m\u001B[1;34m\"UK\"\u001B[0m\u001B[1;33m)\u001B[0m\u001B[1;33m\u001B[0m\u001B[1;33m\u001B[0m\u001B[0m\n\u001B[0;32m     15\u001B[0m \u001B[1;31m# load data\u001B[0m\u001B[1;33m\u001B[0m\u001B[1;33m\u001B[0m\u001B[1;33m\u001B[0m\u001B[0m\n",
      "\u001B[1;32m<ipython-input-22-87db24222dd5>\u001B[0m in \u001B[0;36mextract_info\u001B[1;34m(country)\u001B[0m\n\u001B[0;32m      3\u001B[0m     \u001B[0mmask\u001B[0m \u001B[1;33m=\u001B[0m \u001B[1;34m\"multiTimeline_\"\u001B[0m \u001B[1;33m+\u001B[0m \u001B[0mcountry\u001B[0m \u001B[1;33m+\u001B[0m \u001B[1;34m\".csv\"\u001B[0m\u001B[1;33m\u001B[0m\u001B[1;33m\u001B[0m\u001B[0m\n\u001B[0;32m      4\u001B[0m \u001B[1;33m\u001B[0m\u001B[0m\n\u001B[1;32m----> 5\u001B[1;33m     \u001B[0mfludata\u001B[0m \u001B[1;33m=\u001B[0m \u001B[0mload_flu_file\u001B[0m\u001B[1;33m(\u001B[0m\u001B[0mflu\u001B[0m\u001B[1;33m)\u001B[0m\u001B[1;33m\u001B[0m\u001B[1;33m\u001B[0m\u001B[0m\n\u001B[0m\u001B[0;32m      6\u001B[0m     \u001B[0mmask_trend\u001B[0m \u001B[1;33m=\u001B[0m \u001B[0mload_mask_file\u001B[0m\u001B[1;33m(\u001B[0m\u001B[0mmask\u001B[0m\u001B[1;33m)\u001B[0m\u001B[1;33m\u001B[0m\u001B[1;33m\u001B[0m\u001B[0m\n\u001B[0;32m      7\u001B[0m     \u001B[0mfludata_new\u001B[0m \u001B[1;33m=\u001B[0m \u001B[0mget_total_flu_case_by_month\u001B[0m\u001B[1;33m(\u001B[0m\u001B[0mfludata\u001B[0m\u001B[1;33m)\u001B[0m\u001B[1;33m\u001B[0m\u001B[1;33m\u001B[0m\u001B[0m\n",
      "\u001B[1;32m<ipython-input-14-552ec0052aa0>\u001B[0m in \u001B[0;36mload_flu_file\u001B[1;34m(file)\u001B[0m\n\u001B[0;32m      3\u001B[0m \u001B[1;31m# put csv in \"__init__ main\" to execute\u001B[0m\u001B[1;33m\u001B[0m\u001B[1;33m\u001B[0m\u001B[1;33m\u001B[0m\u001B[0m\n\u001B[0;32m      4\u001B[0m \u001B[1;32mdef\u001B[0m \u001B[0mload_flu_file\u001B[0m\u001B[1;33m(\u001B[0m\u001B[0mfile\u001B[0m\u001B[1;33m)\u001B[0m\u001B[1;33m:\u001B[0m\u001B[1;33m\u001B[0m\u001B[1;33m\u001B[0m\u001B[0m\n\u001B[1;32m----> 5\u001B[1;33m     \u001B[0mflu_df\u001B[0m \u001B[1;33m=\u001B[0m \u001B[0mpd\u001B[0m\u001B[1;33m.\u001B[0m\u001B[0mread_csv\u001B[0m\u001B[1;33m(\u001B[0m\u001B[0mfile\u001B[0m\u001B[1;33m,\u001B[0m \u001B[0mheader\u001B[0m \u001B[1;33m=\u001B[0m \u001B[1;36m2\u001B[0m\u001B[1;33m)\u001B[0m\u001B[1;33m\u001B[0m\u001B[1;33m\u001B[0m\u001B[0m\n\u001B[0m\u001B[0;32m      6\u001B[0m     \u001B[1;32mreturn\u001B[0m \u001B[0mflu_df\u001B[0m\u001B[1;33m\u001B[0m\u001B[1;33m\u001B[0m\u001B[0m\n\u001B[0;32m      7\u001B[0m \u001B[1;33m\u001B[0m\u001B[0m\n",
      "\u001B[1;32mc:\\users\\62420\\2020fall_projects\\venv\\lib\\site-packages\\pandas\\io\\parsers.py\u001B[0m in \u001B[0;36mread_csv\u001B[1;34m(filepath_or_buffer, sep, delimiter, header, names, index_col, usecols, squeeze, prefix, mangle_dupe_cols, dtype, engine, converters, true_values, false_values, skipinitialspace, skiprows, skipfooter, nrows, na_values, keep_default_na, na_filter, verbose, skip_blank_lines, parse_dates, infer_datetime_format, keep_date_col, date_parser, dayfirst, cache_dates, iterator, chunksize, compression, thousands, decimal, lineterminator, quotechar, quoting, doublequote, escapechar, comment, encoding, dialect, error_bad_lines, warn_bad_lines, delim_whitespace, low_memory, memory_map, float_precision)\u001B[0m\n\u001B[0;32m    686\u001B[0m     )\n\u001B[0;32m    687\u001B[0m \u001B[1;33m\u001B[0m\u001B[0m\n\u001B[1;32m--> 688\u001B[1;33m     \u001B[1;32mreturn\u001B[0m \u001B[0m_read\u001B[0m\u001B[1;33m(\u001B[0m\u001B[0mfilepath_or_buffer\u001B[0m\u001B[1;33m,\u001B[0m \u001B[0mkwds\u001B[0m\u001B[1;33m)\u001B[0m\u001B[1;33m\u001B[0m\u001B[1;33m\u001B[0m\u001B[0m\n\u001B[0m\u001B[0;32m    689\u001B[0m \u001B[1;33m\u001B[0m\u001B[0m\n\u001B[0;32m    690\u001B[0m \u001B[1;33m\u001B[0m\u001B[0m\n",
      "\u001B[1;32mc:\\users\\62420\\2020fall_projects\\venv\\lib\\site-packages\\pandas\\io\\parsers.py\u001B[0m in \u001B[0;36m_read\u001B[1;34m(filepath_or_buffer, kwds)\u001B[0m\n\u001B[0;32m    452\u001B[0m \u001B[1;33m\u001B[0m\u001B[0m\n\u001B[0;32m    453\u001B[0m     \u001B[1;31m# Create the parser.\u001B[0m\u001B[1;33m\u001B[0m\u001B[1;33m\u001B[0m\u001B[1;33m\u001B[0m\u001B[0m\n\u001B[1;32m--> 454\u001B[1;33m     \u001B[0mparser\u001B[0m \u001B[1;33m=\u001B[0m \u001B[0mTextFileReader\u001B[0m\u001B[1;33m(\u001B[0m\u001B[0mfp_or_buf\u001B[0m\u001B[1;33m,\u001B[0m \u001B[1;33m**\u001B[0m\u001B[0mkwds\u001B[0m\u001B[1;33m)\u001B[0m\u001B[1;33m\u001B[0m\u001B[1;33m\u001B[0m\u001B[0m\n\u001B[0m\u001B[0;32m    455\u001B[0m \u001B[1;33m\u001B[0m\u001B[0m\n\u001B[0;32m    456\u001B[0m     \u001B[1;32mif\u001B[0m \u001B[0mchunksize\u001B[0m \u001B[1;32mor\u001B[0m \u001B[0miterator\u001B[0m\u001B[1;33m:\u001B[0m\u001B[1;33m\u001B[0m\u001B[1;33m\u001B[0m\u001B[0m\n",
      "\u001B[1;32mc:\\users\\62420\\2020fall_projects\\venv\\lib\\site-packages\\pandas\\io\\parsers.py\u001B[0m in \u001B[0;36m__init__\u001B[1;34m(self, f, engine, **kwds)\u001B[0m\n\u001B[0;32m    946\u001B[0m             \u001B[0mself\u001B[0m\u001B[1;33m.\u001B[0m\u001B[0moptions\u001B[0m\u001B[1;33m[\u001B[0m\u001B[1;34m\"has_index_names\"\u001B[0m\u001B[1;33m]\u001B[0m \u001B[1;33m=\u001B[0m \u001B[0mkwds\u001B[0m\u001B[1;33m[\u001B[0m\u001B[1;34m\"has_index_names\"\u001B[0m\u001B[1;33m]\u001B[0m\u001B[1;33m\u001B[0m\u001B[1;33m\u001B[0m\u001B[0m\n\u001B[0;32m    947\u001B[0m \u001B[1;33m\u001B[0m\u001B[0m\n\u001B[1;32m--> 948\u001B[1;33m         \u001B[0mself\u001B[0m\u001B[1;33m.\u001B[0m\u001B[0m_make_engine\u001B[0m\u001B[1;33m(\u001B[0m\u001B[0mself\u001B[0m\u001B[1;33m.\u001B[0m\u001B[0mengine\u001B[0m\u001B[1;33m)\u001B[0m\u001B[1;33m\u001B[0m\u001B[1;33m\u001B[0m\u001B[0m\n\u001B[0m\u001B[0;32m    949\u001B[0m \u001B[1;33m\u001B[0m\u001B[0m\n\u001B[0;32m    950\u001B[0m     \u001B[1;32mdef\u001B[0m \u001B[0mclose\u001B[0m\u001B[1;33m(\u001B[0m\u001B[0mself\u001B[0m\u001B[1;33m)\u001B[0m\u001B[1;33m:\u001B[0m\u001B[1;33m\u001B[0m\u001B[1;33m\u001B[0m\u001B[0m\n",
      "\u001B[1;32mc:\\users\\62420\\2020fall_projects\\venv\\lib\\site-packages\\pandas\\io\\parsers.py\u001B[0m in \u001B[0;36m_make_engine\u001B[1;34m(self, engine)\u001B[0m\n\u001B[0;32m   1178\u001B[0m     \u001B[1;32mdef\u001B[0m \u001B[0m_make_engine\u001B[0m\u001B[1;33m(\u001B[0m\u001B[0mself\u001B[0m\u001B[1;33m,\u001B[0m \u001B[0mengine\u001B[0m\u001B[1;33m=\u001B[0m\u001B[1;34m\"c\"\u001B[0m\u001B[1;33m)\u001B[0m\u001B[1;33m:\u001B[0m\u001B[1;33m\u001B[0m\u001B[1;33m\u001B[0m\u001B[0m\n\u001B[0;32m   1179\u001B[0m         \u001B[1;32mif\u001B[0m \u001B[0mengine\u001B[0m \u001B[1;33m==\u001B[0m \u001B[1;34m\"c\"\u001B[0m\u001B[1;33m:\u001B[0m\u001B[1;33m\u001B[0m\u001B[1;33m\u001B[0m\u001B[0m\n\u001B[1;32m-> 1180\u001B[1;33m             \u001B[0mself\u001B[0m\u001B[1;33m.\u001B[0m\u001B[0m_engine\u001B[0m \u001B[1;33m=\u001B[0m \u001B[0mCParserWrapper\u001B[0m\u001B[1;33m(\u001B[0m\u001B[0mself\u001B[0m\u001B[1;33m.\u001B[0m\u001B[0mf\u001B[0m\u001B[1;33m,\u001B[0m \u001B[1;33m**\u001B[0m\u001B[0mself\u001B[0m\u001B[1;33m.\u001B[0m\u001B[0moptions\u001B[0m\u001B[1;33m)\u001B[0m\u001B[1;33m\u001B[0m\u001B[1;33m\u001B[0m\u001B[0m\n\u001B[0m\u001B[0;32m   1181\u001B[0m         \u001B[1;32melse\u001B[0m\u001B[1;33m:\u001B[0m\u001B[1;33m\u001B[0m\u001B[1;33m\u001B[0m\u001B[0m\n\u001B[0;32m   1182\u001B[0m             \u001B[1;32mif\u001B[0m \u001B[0mengine\u001B[0m \u001B[1;33m==\u001B[0m \u001B[1;34m\"python\"\u001B[0m\u001B[1;33m:\u001B[0m\u001B[1;33m\u001B[0m\u001B[1;33m\u001B[0m\u001B[0m\n",
      "\u001B[1;32mc:\\users\\62420\\2020fall_projects\\venv\\lib\\site-packages\\pandas\\io\\parsers.py\u001B[0m in \u001B[0;36m__init__\u001B[1;34m(self, src, **kwds)\u001B[0m\n\u001B[0;32m   2008\u001B[0m         \u001B[0mkwds\u001B[0m\u001B[1;33m[\u001B[0m\u001B[1;34m\"usecols\"\u001B[0m\u001B[1;33m]\u001B[0m \u001B[1;33m=\u001B[0m \u001B[0mself\u001B[0m\u001B[1;33m.\u001B[0m\u001B[0musecols\u001B[0m\u001B[1;33m\u001B[0m\u001B[1;33m\u001B[0m\u001B[0m\n\u001B[0;32m   2009\u001B[0m \u001B[1;33m\u001B[0m\u001B[0m\n\u001B[1;32m-> 2010\u001B[1;33m         \u001B[0mself\u001B[0m\u001B[1;33m.\u001B[0m\u001B[0m_reader\u001B[0m \u001B[1;33m=\u001B[0m \u001B[0mparsers\u001B[0m\u001B[1;33m.\u001B[0m\u001B[0mTextReader\u001B[0m\u001B[1;33m(\u001B[0m\u001B[0msrc\u001B[0m\u001B[1;33m,\u001B[0m \u001B[1;33m**\u001B[0m\u001B[0mkwds\u001B[0m\u001B[1;33m)\u001B[0m\u001B[1;33m\u001B[0m\u001B[1;33m\u001B[0m\u001B[0m\n\u001B[0m\u001B[0;32m   2011\u001B[0m         \u001B[0mself\u001B[0m\u001B[1;33m.\u001B[0m\u001B[0munnamed_cols\u001B[0m \u001B[1;33m=\u001B[0m \u001B[0mself\u001B[0m\u001B[1;33m.\u001B[0m\u001B[0m_reader\u001B[0m\u001B[1;33m.\u001B[0m\u001B[0munnamed_cols\u001B[0m\u001B[1;33m\u001B[0m\u001B[1;33m\u001B[0m\u001B[0m\n\u001B[0;32m   2012\u001B[0m \u001B[1;33m\u001B[0m\u001B[0m\n",
      "\u001B[1;32mpandas\\_libs\\parsers.pyx\u001B[0m in \u001B[0;36mpandas._libs.parsers.TextReader.__cinit__\u001B[1;34m()\u001B[0m\n",
      "\u001B[1;32mpandas\\_libs\\parsers.pyx\u001B[0m in \u001B[0;36mpandas._libs.parsers.TextReader._setup_parser_source\u001B[1;34m()\u001B[0m\n",
      "\u001B[1;31mFileNotFoundError\u001B[0m: [Errno 2] No such file or directory: 'FluNetInteractiveReport_US.csv'"
     ]
    }
   ],
   "source": [
    "# if __name__ == \"__main__\":\n",
    "# files\n",
    "\"\"\"\n",
    "flu_china = 'FluNetInteractiveReport_China.csv'\n",
    "flu_usa = 'FluNetInteractiveReport_US.csv'\n",
    "flu_uk = 'FluNetInteractiveReport_UK.csv'\n",
    "mask_china = 'multiTimeline_China.csv'\n",
    "mask_usa = 'multiTimeline_US.csv'\n",
    "mask_uk = 'multiTimeline_UK.csv'\n",
    "\"\"\"\n",
    "\n",
    "china = extract_info(\"China\")\n",
    "us = extract_info(\"US\")\n",
    "uk = extract_info(\"UK\")\n",
    "# load data\n",
    "# fludata_china = load_flu_file(flu_china)\n",
    "# mask_trend_china = load_mask_file(mask_china)\n",
    "# clean data\n",
    "# fludata_china_new = get_total_flu_case_by_month(fludata_china)\n",
    "# mask_trend_china_new = get_mask_search_trend_by_month(mask_trend_china)\n",
    "# covid_case = get_covid_cases(\"China\")\n",
    "# merga all data together\n",
    "# result_data = aggregrate_data(fludata_china_new, mask_trend_china_new, covid_case, \"China\")\n",
    "us"
   ]
  },
  {
   "cell_type": "code",
   "execution_count": null,
   "metadata": {
    "pycharm": {
     "name": "#%%\n"
    }
   },
   "outputs": [],
   "source": [
    "us_graph=plot_graph(us)\n",
    "uk_graph=plot_graph(uk)\n",
    "china_graph=plot_graph(china)\n"
   ]
  },
  {
   "cell_type": "code",
   "execution_count": null,
   "outputs": [],
   "source": [
    "# load + delete document on github"
   ],
   "metadata": {
    "collapsed": false,
    "pycharm": {
     "name": "#%%\n"
    }
   }
  },
  {
   "cell_type": "code",
   "execution_count": null,
   "outputs": [],
   "source": [
    "# write a function to extract data from specific year\n",
    "\n",
    "# ex: 2015 = f(data, 2015)\n",
    "#     2016 = f(data, 2016)"
   ],
   "metadata": {
    "collapsed": false,
    "pycharm": {
     "name": "#%%\n"
    }
   }
  },
  {
   "cell_type": "code",
   "execution_count": null,
   "outputs": [],
   "source": [
    "# plot -> "
   ],
   "metadata": {
    "collapsed": false,
    "pycharm": {
     "name": "#%%\n"
    }
   }
  },
  {
   "cell_type": "code",
   "execution_count": null,
   "outputs": [],
   "source": [
    "# hypothesis 1 -> 把2019和2020年分開兩張圖，比較flu cases變化 (flu+口罩的線) -> 作結論 (plot x 6)\n",
    "# hypothesis 2 -> 把covid跟flu的線畫在一張圖中，分三個國家 -> 作結論 (plot x 3) (2019~2020)\n",
    "# hypothesis 3 -> 2015 ~ 2019 數據疊一起看過去幾年的flu peak，2020數據也疊一起，但是用不同顏色的線表示 -> 作結論 (plot x 1)(2015~2020)"
   ],
   "metadata": {
    "collapsed": false,
    "pycharm": {
     "name": "#%%\n"
    }
   }
  },
  {
   "cell_type": "code",
   "execution_count": null,
   "outputs": [],
   "source": [
    "# china = load_flu_file(\"FluNetInteractiveReport_China_beforecovid.csv\")\n",
    "# china_flu = get_total_flu_case_by_month(china)\n",
    "# china_flu"
   ],
   "metadata": {
    "collapsed": false,
    "pycharm": {
     "name": "#%%\n"
    }
   }
  },
  {
   "cell_type": "code",
   "execution_count": null,
   "outputs": [],
   "source": [],
   "metadata": {
    "collapsed": false,
    "pycharm": {
     "name": "#%%\n"
    }
   }
  },
  {
   "cell_type": "code",
   "execution_count": null,
   "outputs": [],
   "source": [
    "# hypothesis 1 -> 把2019和2020年分開兩張圖，比較flu cases變化 (flu+口罩的線) -> 作結論 (plot x 6)\n",
    "# hypothesis 2 -> 把covid跟flu的線畫在一張圖中，分三個國家 -> 作結論 (plot x 3) (2019~2020)\n",
    "# hypothesis 3 -> 2015 ~ 2019 數據疊一起看過去幾年的flu peak，2020數據也疊一起，但是用不同顏色的線表示 -> 作結論 (plot x 1)(2015~2020)"
   ],
   "metadata": {
    "collapsed": false,
    "pycharm": {
     "name": "#%%\n"
    }
   }
  },
  {
   "cell_type": "code",
   "execution_count": null,
   "outputs": [],
   "source": [
    "# china = load_flu_file(\"FluNetInteractiveReport_China_beforecovid.csv\")\n",
    "# china_flu = get_total_flu_case_by_month(china)\n",
    "# china_flu"
   ],
   "metadata": {
    "collapsed": false,
    "pycharm": {
     "name": "#%%\n"
    }
   }
  },
  {
   "cell_type": "code",
   "execution_count": null,
   "metadata": {},
   "outputs": [],
   "source": []
  },
  {
   "cell_type": "code",
   "execution_count": null,
   "metadata": {},
   "outputs": [],
   "source": [
    "# write a function to extract data from specific year\n",
    "\n",
    "# ex: 2015 = f(data, 2015)\n",
    "#     2016 = f(data, 2016)"
   ]
  },
  {
   "cell_type": "code",
   "execution_count": null,
   "outputs": [],
   "source": [
    "# plot -> "
   ],
   "metadata": {
    "collapsed": false,
    "pycharm": {
     "name": "#%%\n"
    }
   }
  },
  {
   "cell_type": "code",
   "execution_count": null,
   "outputs": [],
   "source": [
    "# hypothesis 1 -> 把2019和2020年分開兩張圖，比較flu cases變化 (flu+口罩的線) -> 作結論 (plot x 6)\n",
    "# hypothesis 2 -> 把covid跟flu的線畫在一張圖中，分三個國家 -> 作結論 (plot x 3) (2019~2020)\n",
    "# hypothesis 3 -> 2015 ~ 2019 數據疊一起看過去幾年的flu peak，2020數據也疊一起，但是用不同顏色的線表示 -> 作結論 (plot x 1)(2015~2020)"
   ],
   "metadata": {
    "collapsed": false,
    "pycharm": {
     "name": "#%%\n"
    }
   }
  },
  {
   "cell_type": "code",
   "execution_count": null,
   "outputs": [],
   "source": [
    "# china = load_flu_file(\"FluNetInteractiveReport_China_beforecovid.csv\")\n",
    "# china_flu = get_total_flu_case_by_month(china)\n",
    "# china_flu"
   ],
   "metadata": {
    "collapsed": false,
    "pycharm": {
     "name": "#%%\n"
    }
   }
  },
  {
   "cell_type": "code",
   "execution_count": null,
   "metadata": {},
   "outputs": [],
   "source": []
  },
  {
   "cell_type": "code",
   "execution_count": null,
   "metadata": {},
   "outputs": [],
   "source": [
    "# hypothesis 1 -> 把2019和2020年分開兩張圖，比較flu cases變化 (flu+口罩的線) -> 作結論 (plot x 6)\n",
    "# hypothesis 2 -> 把covid跟flu的線畫在一張圖中，分三個國家 -> 作結論 (plot x 3) (2019~2020)\n",
    "# hypothesis 3 -> 2015 ~ 2019 數據疊一起看過去幾年的flu peak，2020數據也疊一起，但是用不同顏色的線表示 -> 作結論 (plot x 1)(2015~2020)"
   ]
  },
  {
   "cell_type": "code",
   "execution_count": null,
   "metadata": {},
   "outputs": [],
   "source": [
    "# china = load_flu_file(\"FluNetInteractiveReport_China_beforecovid.csv\")\n",
    "# china_flu = get_total_flu_case_by_month(china)\n",
    "# china_flu"
   ]
  },
  {
   "cell_type": "code",
   "execution_count": null,
   "metadata": {},
   "outputs": [],
   "source": []
  }
 ],
 "metadata": {
  "kernelspec": {
   "display_name": "Python 3",
   "language": "python",
   "name": "python3"
  },
  "language_info": {
   "codemirror_mode": {
    "name": "ipython",
    "version": 3
   },
   "file_extension": ".py",
   "mimetype": "text/x-python",
   "name": "python",
   "nbconvert_exporter": "python",
   "pygments_lexer": "ipython3",
   "version": "3.8.3"
  }
 },
 "nbformat": 4,
 "nbformat_minor": 2
}